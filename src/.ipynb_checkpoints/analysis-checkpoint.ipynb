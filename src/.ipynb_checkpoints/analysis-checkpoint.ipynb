{
 "cells": [
  {
   "cell_type": "code",
   "execution_count": 12,
   "id": "d20fbd4d-b481-404b-a84c-4bd1cf7ddd12",
   "metadata": {},
   "outputs": [],
   "source": [
    "import boto3\n",
    "import os\n",
    "import pandas as pd\n",
    "\n",
    "BUCKET_NAME = 'zipline-photogrammetry-service-kms'\n",
    "IMAGE_PREFIX = 'photogrammetry_service/images/'\n",
    "\n",
    "s3 = boto3.client('s3')"
   ]
  },
  {
   "cell_type": "code",
   "execution_count": 2,
   "id": "0d3eb9d8-bb33-43ca-8de7-577a255d0155",
   "metadata": {},
   "outputs": [
    {
     "data": {
      "text/plain": [
       "'/home/ubuntu/mine/tower_injestion/survey_upload_to_v7/data'"
      ]
     },
     "execution_count": 2,
     "metadata": {},
     "output_type": "execute_result"
    }
   ],
   "source": [
    "THIS_FILE_DIR = os.path.abspath('.')\n",
    "WORK_DIR = os.path.normpath(os.path.join(THIS_FILE_DIR, '../data'))\n",
    "WORK_DIR"
   ]
  },
  {
   "cell_type": "code",
   "execution_count": 8,
   "id": "d023b407-cac6-4281-8216-ea9405395c4f",
   "metadata": {},
   "outputs": [
    {
     "data": {
      "text/plain": [
       "['Project_gh1_flight_199221_results.csv',\n",
       " 'Project_gh1_flight_199004_results.csv',\n",
       " 'Project_gh1_flight_198792_results.csv']"
      ]
     },
     "execution_count": 8,
     "metadata": {},
     "output_type": "execute_result"
    }
   ],
   "source": [
    "result_files = [file for file in os.listdir(os.path.join(WORK_DIR, 'output_files')) if file.endswith('_results.csv')]\n",
    "result_files"
   ]
  },
  {
   "cell_type": "code",
   "execution_count": 11,
   "id": "b33f216f-e15b-455b-9a7e-ce86adabc9d2",
   "metadata": {},
   "outputs": [
    {
     "data": {
      "text/html": [
       "<div>\n",
       "<style scoped>\n",
       "    .dataframe tbody tr th:only-of-type {\n",
       "        vertical-align: middle;\n",
       "    }\n",
       "\n",
       "    .dataframe tbody tr th {\n",
       "        vertical-align: top;\n",
       "    }\n",
       "\n",
       "    .dataframe thead th {\n",
       "        text-align: right;\n",
       "    }\n",
       "</style>\n",
       "<table border=\"1\" class=\"dataframe\">\n",
       "  <thead>\n",
       "    <tr style=\"text-align: right;\">\n",
       "      <th></th>\n",
       "      <th>key</th>\n",
       "      <th>project</th>\n",
       "      <th>tower_detected</th>\n",
       "      <th>image_path</th>\n",
       "    </tr>\n",
       "  </thead>\n",
       "  <tbody>\n",
       "    <tr>\n",
       "      <th>0</th>\n",
       "      <td>photogrammetry_service/images/Project_gh1_flig...</td>\n",
       "      <td>Project_gh1_flight_199221</td>\n",
       "      <td>0</td>\n",
       "      <td>NaN</td>\n",
       "    </tr>\n",
       "    <tr>\n",
       "      <th>1</th>\n",
       "      <td>photogrammetry_service/images/Project_gh1_flig...</td>\n",
       "      <td>Project_gh1_flight_199221</td>\n",
       "      <td>0</td>\n",
       "      <td>NaN</td>\n",
       "    </tr>\n",
       "    <tr>\n",
       "      <th>2</th>\n",
       "      <td>photogrammetry_service/images/Project_gh1_flig...</td>\n",
       "      <td>Project_gh1_flight_199221</td>\n",
       "      <td>0</td>\n",
       "      <td>NaN</td>\n",
       "    </tr>\n",
       "    <tr>\n",
       "      <th>3</th>\n",
       "      <td>photogrammetry_service/images/Project_gh1_flig...</td>\n",
       "      <td>Project_gh1_flight_199221</td>\n",
       "      <td>0</td>\n",
       "      <td>NaN</td>\n",
       "    </tr>\n",
       "    <tr>\n",
       "      <th>4</th>\n",
       "      <td>photogrammetry_service/images/Project_gh1_flig...</td>\n",
       "      <td>Project_gh1_flight_199221</td>\n",
       "      <td>0</td>\n",
       "      <td>NaN</td>\n",
       "    </tr>\n",
       "    <tr>\n",
       "      <th>...</th>\n",
       "      <td>...</td>\n",
       "      <td>...</td>\n",
       "      <td>...</td>\n",
       "      <td>...</td>\n",
       "    </tr>\n",
       "    <tr>\n",
       "      <th>1107</th>\n",
       "      <td>photogrammetry_service/images/Project_gh1_flig...</td>\n",
       "      <td>Project_gh1_flight_198792</td>\n",
       "      <td>0</td>\n",
       "      <td>NaN</td>\n",
       "    </tr>\n",
       "    <tr>\n",
       "      <th>1108</th>\n",
       "      <td>photogrammetry_service/images/Project_gh1_flig...</td>\n",
       "      <td>Project_gh1_flight_198792</td>\n",
       "      <td>0</td>\n",
       "      <td>NaN</td>\n",
       "    </tr>\n",
       "    <tr>\n",
       "      <th>1109</th>\n",
       "      <td>photogrammetry_service/images/Project_gh1_flig...</td>\n",
       "      <td>Project_gh1_flight_198792</td>\n",
       "      <td>0</td>\n",
       "      <td>NaN</td>\n",
       "    </tr>\n",
       "    <tr>\n",
       "      <th>1110</th>\n",
       "      <td>photogrammetry_service/images/Project_gh1_flig...</td>\n",
       "      <td>Project_gh1_flight_198792</td>\n",
       "      <td>0</td>\n",
       "      <td>NaN</td>\n",
       "    </tr>\n",
       "    <tr>\n",
       "      <th>1111</th>\n",
       "      <td>photogrammetry_service/images/Project_gh1_flig...</td>\n",
       "      <td>Project_gh1_flight_198792</td>\n",
       "      <td>0</td>\n",
       "      <td>NaN</td>\n",
       "    </tr>\n",
       "  </tbody>\n",
       "</table>\n",
       "<p>1112 rows × 4 columns</p>\n",
       "</div>"
      ],
      "text/plain": [
       "                                                    key  \\\n",
       "0     photogrammetry_service/images/Project_gh1_flig...   \n",
       "1     photogrammetry_service/images/Project_gh1_flig...   \n",
       "2     photogrammetry_service/images/Project_gh1_flig...   \n",
       "3     photogrammetry_service/images/Project_gh1_flig...   \n",
       "4     photogrammetry_service/images/Project_gh1_flig...   \n",
       "...                                                 ...   \n",
       "1107  photogrammetry_service/images/Project_gh1_flig...   \n",
       "1108  photogrammetry_service/images/Project_gh1_flig...   \n",
       "1109  photogrammetry_service/images/Project_gh1_flig...   \n",
       "1110  photogrammetry_service/images/Project_gh1_flig...   \n",
       "1111  photogrammetry_service/images/Project_gh1_flig...   \n",
       "\n",
       "                        project  tower_detected image_path  \n",
       "0     Project_gh1_flight_199221               0        NaN  \n",
       "1     Project_gh1_flight_199221               0        NaN  \n",
       "2     Project_gh1_flight_199221               0        NaN  \n",
       "3     Project_gh1_flight_199221               0        NaN  \n",
       "4     Project_gh1_flight_199221               0        NaN  \n",
       "...                         ...             ...        ...  \n",
       "1107  Project_gh1_flight_198792               0        NaN  \n",
       "1108  Project_gh1_flight_198792               0        NaN  \n",
       "1109  Project_gh1_flight_198792               0        NaN  \n",
       "1110  Project_gh1_flight_198792               0        NaN  \n",
       "1111  Project_gh1_flight_198792               0        NaN  \n",
       "\n",
       "[1112 rows x 4 columns]"
      ]
     },
     "execution_count": 11,
     "metadata": {},
     "output_type": "execute_result"
    }
   ],
   "source": [
    "result_dfs = [pd.read_csv(os.path.join(WORK_DIR, 'output_files', file), index_col=0) for file in result_files]\n",
    "result_df = pd.concat(result_dfs)\n",
    "result_df"
   ]
  },
  {
   "cell_type": "code",
   "execution_count": 13,
   "id": "2e2a9a5f-4391-4b9d-972c-f589de28d43c",
   "metadata": {},
   "outputs": [],
   "source": [
    "def extract_image_keys_to_process(project):\n",
    "    image_json_file_key = IMAGE_PREFIX + f\"{project}/images.json\"\n",
    "    obj = s3.get_object(Bucket = BUCKET_NAME, Key = image_json_file_key)\n",
    "    images = json.loads(obj[\"Body\"].read())\n",
    "    return images\n",
    "\n",
    "def check_project_is_fully_processed(project):\n",
    "    processed_keys = set(result_df.query('project == @project')['key'].unique())\n",
    "    all_keys = set(extract_image_keys_to_process(project))\n",
    "    return all_keys == processed_keys"
   ]
  },
  {
   "cell_type": "code",
   "execution_count": 14,
   "id": "f6dfcca3-63ba-4965-9ea3-bdd433d60f05",
   "metadata": {},
   "outputs": [
    {
     "ename": "ClientError",
     "evalue": "An error occurred (AccessDenied) when calling the GetObject operation: User: arn:aws:sts::149938346436:assumed-role/daa_instance_access/i-0db92147449033e2b is not authorized to perform: s3:GetObject on resource: \"arn:aws:s3:::zipline-photogrammetry-service-kms/photogrammetry_service/images/Project_gh1_flight_199221/images.json\" because no identity-based policy allows the s3:GetObject action",
     "output_type": "error",
     "traceback": [
      "\u001b[0;31m---------------------------------------------------------------------------\u001b[0m",
      "\u001b[0;31mClientError\u001b[0m                               Traceback (most recent call last)",
      "Cell \u001b[0;32mIn[14], line 1\u001b[0m\n\u001b[0;32m----> 1\u001b[0m \u001b[43mcheck_project_is_fully_processed\u001b[49m\u001b[43m(\u001b[49m\u001b[38;5;124;43m'\u001b[39;49m\u001b[38;5;124;43mProject_gh1_flight_199221\u001b[39;49m\u001b[38;5;124;43m'\u001b[39;49m\u001b[43m)\u001b[49m\n",
      "Cell \u001b[0;32mIn[13], line 9\u001b[0m, in \u001b[0;36mcheck_project_is_fully_processed\u001b[0;34m(project)\u001b[0m\n\u001b[1;32m      7\u001b[0m \u001b[38;5;28;01mdef\u001b[39;00m \u001b[38;5;21mcheck_project_is_fully_processed\u001b[39m(project):\n\u001b[1;32m      8\u001b[0m     processed_keys \u001b[38;5;241m=\u001b[39m \u001b[38;5;28mset\u001b[39m(result_df\u001b[38;5;241m.\u001b[39mquery(\u001b[38;5;124m'\u001b[39m\u001b[38;5;124mproject == @project\u001b[39m\u001b[38;5;124m'\u001b[39m)[\u001b[38;5;124m'\u001b[39m\u001b[38;5;124mkey\u001b[39m\u001b[38;5;124m'\u001b[39m]\u001b[38;5;241m.\u001b[39munique())\n\u001b[0;32m----> 9\u001b[0m     all_keys \u001b[38;5;241m=\u001b[39m \u001b[38;5;28mset\u001b[39m(\u001b[43mextract_image_keys_to_process\u001b[49m\u001b[43m(\u001b[49m\u001b[43mproject\u001b[49m\u001b[43m)\u001b[49m)\n\u001b[1;32m     10\u001b[0m     \u001b[38;5;28;01mreturn\u001b[39;00m all_keys \u001b[38;5;241m==\u001b[39m processed_keys\n",
      "Cell \u001b[0;32mIn[13], line 3\u001b[0m, in \u001b[0;36mextract_image_keys_to_process\u001b[0;34m(project)\u001b[0m\n\u001b[1;32m      1\u001b[0m \u001b[38;5;28;01mdef\u001b[39;00m \u001b[38;5;21mextract_image_keys_to_process\u001b[39m(project):\n\u001b[1;32m      2\u001b[0m     image_json_file_key \u001b[38;5;241m=\u001b[39m IMAGE_PREFIX \u001b[38;5;241m+\u001b[39m \u001b[38;5;124mf\u001b[39m\u001b[38;5;124m\"\u001b[39m\u001b[38;5;132;01m{\u001b[39;00mproject\u001b[38;5;132;01m}\u001b[39;00m\u001b[38;5;124m/images.json\u001b[39m\u001b[38;5;124m\"\u001b[39m\n\u001b[0;32m----> 3\u001b[0m     obj \u001b[38;5;241m=\u001b[39m \u001b[43ms3\u001b[49m\u001b[38;5;241;43m.\u001b[39;49m\u001b[43mget_object\u001b[49m\u001b[43m(\u001b[49m\u001b[43mBucket\u001b[49m\u001b[43m \u001b[49m\u001b[38;5;241;43m=\u001b[39;49m\u001b[43m \u001b[49m\u001b[43mBUCKET_NAME\u001b[49m\u001b[43m,\u001b[49m\u001b[43m \u001b[49m\u001b[43mKey\u001b[49m\u001b[43m \u001b[49m\u001b[38;5;241;43m=\u001b[39;49m\u001b[43m \u001b[49m\u001b[43mimage_json_file_key\u001b[49m\u001b[43m)\u001b[49m\n\u001b[1;32m      4\u001b[0m     images \u001b[38;5;241m=\u001b[39m json\u001b[38;5;241m.\u001b[39mloads(obj[\u001b[38;5;124m\"\u001b[39m\u001b[38;5;124mBody\u001b[39m\u001b[38;5;124m\"\u001b[39m]\u001b[38;5;241m.\u001b[39mread())\n\u001b[1;32m      5\u001b[0m     \u001b[38;5;28;01mreturn\u001b[39;00m images\n",
      "File \u001b[0;32m~/mine/tower_injestion/survey_upload_to_v7/venv/lib/python3.10/site-packages/botocore/client.py:569\u001b[0m, in \u001b[0;36mClientCreator._create_api_method.<locals>._api_call\u001b[0;34m(self, *args, **kwargs)\u001b[0m\n\u001b[1;32m    565\u001b[0m     \u001b[38;5;28;01mraise\u001b[39;00m \u001b[38;5;167;01mTypeError\u001b[39;00m(\n\u001b[1;32m    566\u001b[0m         \u001b[38;5;124mf\u001b[39m\u001b[38;5;124m\"\u001b[39m\u001b[38;5;132;01m{\u001b[39;00mpy_operation_name\u001b[38;5;132;01m}\u001b[39;00m\u001b[38;5;124m() only accepts keyword arguments.\u001b[39m\u001b[38;5;124m\"\u001b[39m\n\u001b[1;32m    567\u001b[0m     )\n\u001b[1;32m    568\u001b[0m \u001b[38;5;66;03m# The \"self\" in this scope is referring to the BaseClient.\u001b[39;00m\n\u001b[0;32m--> 569\u001b[0m \u001b[38;5;28;01mreturn\u001b[39;00m \u001b[38;5;28;43mself\u001b[39;49m\u001b[38;5;241;43m.\u001b[39;49m\u001b[43m_make_api_call\u001b[49m\u001b[43m(\u001b[49m\u001b[43moperation_name\u001b[49m\u001b[43m,\u001b[49m\u001b[43m \u001b[49m\u001b[43mkwargs\u001b[49m\u001b[43m)\u001b[49m\n",
      "File \u001b[0;32m~/mine/tower_injestion/survey_upload_to_v7/venv/lib/python3.10/site-packages/botocore/client.py:1023\u001b[0m, in \u001b[0;36mBaseClient._make_api_call\u001b[0;34m(self, operation_name, api_params)\u001b[0m\n\u001b[1;32m   1019\u001b[0m     error_code \u001b[38;5;241m=\u001b[39m error_info\u001b[38;5;241m.\u001b[39mget(\u001b[38;5;124m\"\u001b[39m\u001b[38;5;124mQueryErrorCode\u001b[39m\u001b[38;5;124m\"\u001b[39m) \u001b[38;5;129;01mor\u001b[39;00m error_info\u001b[38;5;241m.\u001b[39mget(\n\u001b[1;32m   1020\u001b[0m         \u001b[38;5;124m\"\u001b[39m\u001b[38;5;124mCode\u001b[39m\u001b[38;5;124m\"\u001b[39m\n\u001b[1;32m   1021\u001b[0m     )\n\u001b[1;32m   1022\u001b[0m     error_class \u001b[38;5;241m=\u001b[39m \u001b[38;5;28mself\u001b[39m\u001b[38;5;241m.\u001b[39mexceptions\u001b[38;5;241m.\u001b[39mfrom_code(error_code)\n\u001b[0;32m-> 1023\u001b[0m     \u001b[38;5;28;01mraise\u001b[39;00m error_class(parsed_response, operation_name)\n\u001b[1;32m   1024\u001b[0m \u001b[38;5;28;01melse\u001b[39;00m:\n\u001b[1;32m   1025\u001b[0m     \u001b[38;5;28;01mreturn\u001b[39;00m parsed_response\n",
      "\u001b[0;31mClientError\u001b[0m: An error occurred (AccessDenied) when calling the GetObject operation: User: arn:aws:sts::149938346436:assumed-role/daa_instance_access/i-0db92147449033e2b is not authorized to perform: s3:GetObject on resource: \"arn:aws:s3:::zipline-photogrammetry-service-kms/photogrammetry_service/images/Project_gh1_flight_199221/images.json\" because no identity-based policy allows the s3:GetObject action"
     ]
    }
   ],
   "source": [
    "check_project_is_fully_processed('Project_gh1_flight_199221')"
   ]
  }
 ],
 "metadata": {
  "kernelspec": {
   "display_name": "Python 3 (ipykernel)",
   "language": "python",
   "name": "python3"
  },
  "language_info": {
   "codemirror_mode": {
    "name": "ipython",
    "version": 3
   },
   "file_extension": ".py",
   "mimetype": "text/x-python",
   "name": "python",
   "nbconvert_exporter": "python",
   "pygments_lexer": "ipython3",
   "version": "3.10.12"
  }
 },
 "nbformat": 4,
 "nbformat_minor": 5
}
